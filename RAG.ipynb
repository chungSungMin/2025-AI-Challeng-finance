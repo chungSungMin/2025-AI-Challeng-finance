{
 "cells": [
  {
   "cell_type": "code",
   "execution_count": 1,
   "metadata": {},
   "outputs": [
    {
     "name": "stderr",
     "output_type": "stream",
     "text": [
      "2025-08-20 15:55:53.261079: I tensorflow/core/util/port.cc:153] oneDNN custom operations are on. You may see slightly different numerical results due to floating-point round-off errors from different computation orders. To turn them off, set the environment variable `TF_ENABLE_ONEDNN_OPTS=0`.\n",
      "2025-08-20 15:55:53.268461: E external/local_xla/xla/stream_executor/cuda/cuda_fft.cc:477] Unable to register cuFFT factory: Attempting to register factory for plugin cuFFT when one has already been registered\n",
      "WARNING: All log messages before absl::InitializeLog() is called are written to STDERR\n",
      "E0000 00:00:1755672953.277448  606851 cuda_dnn.cc:8310] Unable to register cuDNN factory: Attempting to register factory for plugin cuDNN when one has already been registered\n",
      "E0000 00:00:1755672953.280139  606851 cuda_blas.cc:1418] Unable to register cuBLAS factory: Attempting to register factory for plugin cuBLAS when one has already been registered\n",
      "2025-08-20 15:55:53.289557: I tensorflow/core/platform/cpu_feature_guard.cc:210] This TensorFlow binary is optimized to use available CPU instructions in performance-critical operations.\n",
      "To enable the following instructions: AVX2 AVX_VNNI FMA, in other operations, rebuild TensorFlow with the appropriate compiler flags.\n"
     ]
    }
   ],
   "source": [
    "import re\n",
    "import os\n",
    "import itertools\n",
    "import numpy as np\n",
    "import pandas as pd\n",
    "from typing import Any, Dict\n",
    "import random\n",
    "import yaml\n",
    "import argparse\n",
    "import glob\n",
    "from tqdm import tqdm\n",
    "\n",
    "from langchain_text_splitters import RecursiveCharacterTextSplitter\n",
    "from langchain.schema import Document\n",
    "from langchain.embeddings import HuggingFaceEmbeddings\n",
    "from langchain.vectorstores import FAISS\n",
    "from langchain.prompts import PromptTemplate\n",
    "from langchain.chains import RetrievalQA\n",
    "from langchain.llms import HuggingFacePipeline\n",
    "from sentence_transformers import SentenceTransformer\n",
    "from langchain_community.vectorstores.utils import DistanceStrategy\n",
    "import faiss\n",
    "import pdfplumber\n",
    "import torch\n",
    "from sentence_transformers import CrossEncoder\n",
    "from transformers import AutoModelForSequenceClassification, AutoTokenizer\n",
    "import warnings"
   ]
  },
  {
   "cell_type": "code",
   "execution_count": 2,
   "metadata": {},
   "outputs": [
    {
     "name": "stderr",
     "output_type": "stream",
     "text": [
      "Data-loss while decompressing corrupted data\n",
      "Data-loss while decompressing corrupted data\n",
      "Data-loss while decompressing corrupted data\n",
      "Data-loss while decompressing corrupted data\n",
      "Data-loss while decompressing corrupted data\n",
      "Data-loss while decompressing corrupted data\n",
      "Data-loss while decompressing corrupted data\n",
      "Data-loss while decompressing corrupted data\n",
      "Data-loss while decompressing corrupted data\n",
      "Data-loss while decompressing corrupted data\n",
      "Data-loss while decompressing corrupted data\n",
      "Data-loss while decompressing corrupted data\n",
      "Data-loss while decompressing corrupted data\n",
      "Data-loss while decompressing corrupted data\n",
      "Data-loss while decompressing corrupted data\n",
      "Data-loss while decompressing corrupted data\n",
      "Data-loss while decompressing corrupted data\n",
      "Data-loss while decompressing corrupted data\n",
      "Data-loss while decompressing corrupted data\n",
      "Data-loss while decompressing corrupted data\n",
      "Data-loss while decompressing corrupted data\n",
      "Data-loss while decompressing corrupted data\n",
      "Data-loss while decompressing corrupted data\n",
      "Data-loss while decompressing corrupted data\n",
      "Data-loss while decompressing corrupted data\n",
      "Data-loss while decompressing corrupted data\n",
      "Data-loss while decompressing corrupted data\n",
      "Data-loss while decompressing corrupted data\n",
      "Data-loss while decompressing corrupted data\n",
      "Data-loss while decompressing corrupted data\n",
      "Data-loss while decompressing corrupted data\n",
      "Data-loss while decompressing corrupted data\n",
      "Data-loss while decompressing corrupted data\n",
      "Data-loss while decompressing corrupted data\n"
     ]
    }
   ],
   "source": [
    "base_path = \"./law\"\n",
    "pdf_path = [base_path + f\"/{i}\" for i in os.listdir(base_path)]\n",
    "\n",
    "pdf_text = {\n",
    "    i : \"\" for i in os.listdir(base_path)\n",
    "}\n",
    "\n",
    "for i, key in zip(pdf_path, pdf_text.keys()):\n",
    "    text = \"\"\n",
    "    with pdfplumber.open(i) as pdf:\n",
    "        for page in pdf.pages:\n",
    "            text += page.extract_text() + \"\\n\" \n",
    "    \n",
    "    pdf_text[key] = text"
   ]
  },
  {
   "cell_type": "code",
   "execution_count": 3,
   "metadata": {},
   "outputs": [
    {
     "name": "stdout",
     "output_type": "stream",
     "text": [
      "dict_keys(['전자금융거래법.pdf', '금융회사의 정보처리 업무 위탁에 관한 규정.pdf', '금융위원회의 설치 등에 관한 법률.pdf', '전자상거래 등에서의 소비자보호에 관한 법률.pdf', '정보통신망 이용촉진 및 정보보호 등에 관한 법률.pdf', '개인정보 보호법.pdf', '전자문서 및 전자거래 기본법.pdf', '소득세법.pdf', '여신전문금융업법.pdf', '전자서명법.pdf', '신용정보의 이용 및 보호에 관한 법률.pdf', '전자정부법.pdf', '정보보호산업의 진흥에 관한 법률 시행규칙.pdf', '전자금융감독규정.pdf', '정보통신기반 보호법.pdf', '사이버안보 업무규정.pdf', '산업표준화법.pdf', '은행법.pdf', '전자금융거래법 시행령.pdf', '금융기관검사및제재에관한규정.pdf', '정보보호산업의 진흥에 관한 법률.pdf'])\n"
     ]
    }
   ],
   "source": [
    "# for key, i in pdf_text.items():\n",
    "#     print(i)\n",
    "\n",
    "print(pdf_text.keys())"
   ]
  },
  {
   "cell_type": "code",
   "execution_count": 4,
   "metadata": {},
   "outputs": [
    {
     "data": {
      "text/plain": [
       "['전자금융거래법 제1조(목적) 이 법은 전자금융거래의 법률관계를 명확히 하여 전자금융거래의 안전성과 신뢰성을 확보함과 아울러 전\\n자금융업의 건전한 발전을 위한 기반조성을 함으로써 국민의 금융편의를 꾀하고 국민경제의 발전에 이바지함을 목\\n적으로 한다.\\n',\n",
       " '전자금융거래법 제2조(정의) 이 법에서 사용하는 용어의 정의는 다음과 같다. <개정 2007. 4. 27., 2008. 2. 29., 2012. 3. 21., 2012. 6. 1.,\\n2013. 5. 22., 2020. 6. 9., 2023. 9. 14.>\\n1. “전자금융거래”라 함은 금융회사 또는 전자금융업자가 전자적 장치를 통하여 금융상품 및 서비스를 제공(이하\\n“전자금융업무”라 한다)하고, 이용자가 금융회사 또는 전자금융업자의 종사자와 직접 대면하거나 의사소통을 하\\n지 아니하고 자동화된 방식으로 이를 이용하는 거래를 말한다.\\n2. “전자지급거래”라 함은 자금을 주는 자(이하 “지급인”이라 한다)가 금융회사 또는 전자금융업자로 하여금 전자지\\n급수단을 이용하여 자금을 받는 자(이하 “수취인”이라 한다)에게 자금을 이동하게 하는 전자금융거래를 말한다.\\n3. “금융회사”란 다음 각 목의 어느 하나에 해당하는 기관이나 단체 또는 사업자를 말한다.\\n가. 「금융위원회의 설치 등에 관한 법률」 제38조제1호부터 제5호까지, 제7호 및 제8호에 해당하는 기관\\n나. 「여신전문금융업법」에 따른 여신전문금융회사\\n다. 「우체국예금ㆍ보험에 관한 법률」에 따른 체신관서\\n라. 「새마을금고법」에 따른 새마을금고 및 새마을금고중앙회\\n마. 그 밖에 법률의 규정에 따라 금융업 및 금융 관련 업무를 행하는 기관이나 단체 또는 사업자로서 대통령령이\\n정하는 자\\n4. “전자금융업자”라 함은 제28조의 규정에 따라 허가를 받거나 등록을 한 자(금융회사는 제외한다)를 말한다.\\n5. “전자금융보조업자”라 함은 금융회사 또는 전자금융업자를 위하여 전자금융거래를 보조하거나 그 일부를 대행하\\n는 업무를 행하는 자 또는 결제중계시스템의 운영자로서 「금융위원회의 설치 등에 관한 법률」제3조에 따른 금융\\n위원회(이하 “금융위원회”라 한다)가 정하는 자를 말한다.\\n6. “결제중계시스템”이라 함은 금융회사와 전자금융업자 사이에 전자금융거래정보를 전달하여 자금정산 및 결제에\\n관한 업무를 수행하는 금융정보처리운영체계를 말한다.\\n7. “이용자”라 함은 전자금융거래를 위하여 금융회사 또는 전자금융업자와 체결한 계약(이하 “전자금융거래계약”이\\n라 한다)에 따라 전자금융거래를 이용하는 자를 말한다.\\n8. “전자적 장치”라 함은 전자금융거래정보를 전자적 방법으로 전송하거나 처리하는데 이용되는 장치로서 현금자동\\n지급기, 자동입출금기, 지급용단말기, 컴퓨터, 전화기 그 밖에 전자적 방법으로 정보를 전송하거나 처리하는 장치\\n를 말한다.\\n9. “전자문서”라 함은 「전자문서 및 전자거래 기본법」 제2조제1호에 따른 작성, 송신ㆍ수신 또는 저장된 정보를 말\\n한다.\\n10. “접근매체”라 함은 전자금융거래에 있어서 거래지시를 하거나 이용자 및 거래내용의 진실성과 정확성을 확보하\\n기 위하여 사용되는 다음 각 목의 어느 하나에 해당하는 수단 또는 정보를 말한다.\\n가. 전자식 카드 및 이에 준하는 전자적 정보\\n나. 「전자서명법」 제2조제3호에 따른 전자서명생성정보 및 같은 조 제6호에 따른 인증서\\n다. 금융회사 또는 전자금융업자에 등록된 이용자번호\\n법제처 1 국가법령정보센터\\n전자금융거래법\\n라. 이용자의 생체정보\\n마. 가목 또는 나목의 수단이나 정보를 사용하는데 필요한 비밀번호\\n11. “전자지급수단”이라 함은 전자자금이체, 직불전자지급수단, 선불전자지급수단, 전자화폐, 신용카드, 전자채권 그\\n밖에 전자적 방법에 따른 지급수단을 말한다.\\n12. “전자자금이체”라 함은 지급인과 수취인 사이에 자금을 지급할 목적으로 금융회사 또는 전자금융업자에 개설된\\n계좌(금융회사에 연결된 계좌에 한한다. 이하 같다)에서 다른 계좌로 전자적 장치에 의하여 다음 각 목의 어느 하\\n나에 해당하는 방법으로 자금을 이체하는 것을 말한다.\\n가. 금융회사 또는 전자금융업자에 대한 지급인의 지급지시\\n나. 금융회사 또는 전자금융업자에 대한 수취인의 추심지시(이하 “추심이체”라 한다)\\n13. “직불전자지급수단”이라 함은 이용자와 가맹점간에 전자적 방법에 따라 금융회사의 계좌에서 자금을 이체하는\\n등의 방법으로 재화 또는 용역의 제공과 그 대가의 지급을 동시에 이행할 수 있도록 금융회사 또는 전자금융업자\\n가 발행한 증표(자금을 융통받을 수 있는 증표를 제외한다) 또는 그 증표에 관한 정보를 말한다.\\n14. “선불전자지급수단”이라 함은 이전 가능한 금전적 가치가 전자적 방법으로 저장되어 발행된 증표(전자적 방법\\n으로 변환되어 저장된 증표를 포함한다) 또는 그 증표에 관한 정보로서 발행인(대통령령으로 정하는 특수관계인\\n을 포함한다) 외의 제3자로부터 재화 또는 용역을 구입하고 그 대가를 지급하는데 사용되는 것을 말한다. 다만,\\n전자화폐를 제외한다.\\n가. 삭제<2023. 9. 14.>\\n나. 삭제<2023. 9. 14.>\\n15. “전자화폐”라 함은 이전 가능한 금전적 가치가 전자적 방법으로 저장되어 발행된 증표 또는 그 증표에 관한 정\\n보로서 다음 각 목의 요건을 모두 갖춘 것을 말한다.\\n가. 대통령령이 정하는 기준 이상의 지역 및 가맹점에서 이용될 것\\n나. 제14호 가목의 요건을 충족할 것\\n다. 구입할 수 있는 재화 또는 용역의 범위가 5개 이상으로서 대통령령이 정하는 업종 수 이상일 것\\n라. 현금 또는 예금과 동일한 가치로 교환되어 발행될 것\\n마. 발행자에 의하여 현금 또는 예금으로 교환이 보장될 것\\n16. “전자채권”이라 함은 다음 각 목의 요건을 갖춘 전자문서에 기재된 채권자의 금전채권을 말한다.\\n가. 채무자가 채권자를 지정할 것\\n나. 전자채권에 채무의 내용이 기재되어 있을 것\\n다. 「전자서명법」 제2조제2호에 따른 전자서명(서명자의 실지명의를 확인할 수 있는 것을 말한다)이 있을 것\\n라. 금융회사를 거쳐 제29조제1항의 규정에 따른 전자채권관리기관(이하 “전자채권관리기관”이라 한다)에 등록될\\n것\\n마. 채무자가 채권자에게 가목 내지 다목의 요건을 모두 갖춘 전자문서를 「전자문서 및 전자거래 기본법」 제6조\\n제1항에 따라 송신하고 채권자가 이를 같은 법 제6조제2항의 규정에 따라 수신할 것\\n17. “거래지시”라 함은 이용자가 전자금융거래계약에 따라 금융회사 또는 전자금융업자에게 전자금융거래의 처리\\n를 지시하는 것을 말한다.\\n18. “오류”라 함은 이용자의 고의 또는 과실 없이 전자금융거래가 전자금융거래계약 또는 이용자의 거래지시에 따\\n라 이행되지 아니한 경우를 말한다.\\n19. “전자지급결제대행”이라 함은 전자적 방법으로 재화의 구입 또는 용역의 이용에 있어서 지급결제정보를 송신하\\n거나 수신하는 것 또는 그 대가의 정산을 대행하거나 매개하는 것을 말한다.\\n20. “가맹점”이란 다음 각 목의 자를 말한다.\\n가. 금융회사 또는 전자금융업자와의 계약에 따라 직불전자지급수단이나 선불전자지급수단 또는 전자화폐에 의\\n한 거래에 있어서 이용자에게 재화 또는 용역을 제공하는 자\\n나. 금융회사 또는 전자금융업자와의 계약에 따라 이용자에게 재화 또는 용역을 제공하는 자를 위하여 직불전자\\n지급수단이나 선불전자지급수단 또는 전자화폐에 의한 거래를 대행하는 자로서 대통령령으로 정하는 자\\n법제처 2 국가법령정보센터\\n전자금융거래법\\n21. “전자금융기반시설”이란 전자금융거래에 이용되는 정보처리시스템 및 「정보통신망 이용촉진 및 정보보호 등에\\n관한 법률」 제2조제1항제1호에 따른 정보통신망을 말한다.\\n22. “전자적 침해행위”란 해킹, 컴퓨터 바이러스, 논리폭탄, 메일폭탄, 서비스 거부 또는 고출력 전자기파 등의 방법\\n으로 전자금융기반시설을 공격하는 행위를 말한다.\\n',\n",
       " '전자금융거래법 제3조(적용범위) ①이 법은 다른 법률에 특별한 규정이 있는 경우를 제외하고 모든 전자금융거래에 적용한다. 다만, 금\\n융회사 및 전자금융업자간에 따로 정하는 계약에 따라 이루어지는 전자금융거래 가운데 대통령령이 정하는 경우에\\n는 이 법을 적용하지 아니한다. <개정 2013. 5. 22.>\\n②제5장의 규정은 제2조제3호 다목 및 라목의 금융회사에 대하여는 이를 적용하지 아니한다.<개정 2013. 5. 22.>\\n③ 금융회사 중 전자금융거래의 빈도, 회사의 규모 등을 고려하여 대통령령으로 정하는 금융회사에 대하여는 다음\\n각 호를 적용하지 아니한다.<신설 2013. 5. 22.>\\n1. 제21조제2항의 인력, 시설, 전자적 장치 등의 정보기술부문 및 전자금융업무에 관하여 금융위원회가 정하는 기준\\n준수\\n2. 제21조제4항의 정보기술부문의 계획수립 및 제출\\n3. 제21조의2의 정보보호최고책임자 지정\\n4. 제21조의3의 전자금융기반시설의 취약점 분석ㆍ평가\\n',\n",
       " '전자금융거래법 제4조(상호주의) 외국인 또는 외국법인에 대하여도 이 법을 적용한다. 다만, 대한민국 국민 또는 대한민국 법인에 대하\\n여 이 법에 준하는 보호를 하지 아니하는 국가의 외국인 또는 외국법인에 대하여는 그에 상응하여 이 법 또는 대한\\n민국이 가입하거나 체결한 조약에 따른 보호를 제한할 수 있다.\\n제2장 전자금융거래 당사자의 권리와 의무\\n제1절 통칙\\n',\n",
       " '전자금융거래법 제5조(전자문서의 사용) ①전자금융거래를 위하여 사용되는 전자문서에 대하여는 「전자문서 및 전자거래 기본법」 제\\n4조부터 제7조까지, 제9조 및 제10조를 적용한다. <개정 2012. 6. 1.>\\n②금융회사 또는 전자금융업자가 거래지시와 관련하여 수신한 전자문서는 각 문서마다 독립된 것으로 본다. 다만,\\n금융회사 또는 전자금융업자와 이용자 사이에 전자금융거래계약에 따라 확인절차를 거치는 경우에는 그 절차에 따\\n른다.<개정 2013. 5. 22.>\\n']"
      ]
     },
     "execution_count": 4,
     "metadata": {},
     "output_type": "execute_result"
    }
   ],
   "source": [
    "def split_by_article(text):\n",
    "    # '제 N조' 앞에서 split\n",
    "    pattern = r'(제\\s*\\d+조(?:의\\d+)?\\s*\\([^)]+\\)[\\s\\S]*?)(?=제\\s*\\d+조(?:의\\d+)?\\s*\\([^)]+\\)|\\Z)'\n",
    "    return re.findall(pattern, text)\n",
    "\n",
    "pdf_split_data = []\n",
    "\n",
    "for article, text in pdf_text.items():\n",
    "    split_text = split_by_article(text)\n",
    "    for i in split_text:\n",
    "        pdf_split_data.append(f\"{article[:-4]} {i}\")\n",
    "\n",
    "pdf_split_data[:5]"
   ]
  },
  {
   "cell_type": "code",
   "execution_count": 5,
   "metadata": {},
   "outputs": [],
   "source": [
    "tech_data = pd.read_csv(\"/home/aicontest/finance/tech/tech_data_noise.csv\")\n",
    "\n",
    "tech_array = list(tech_data['data'])\n",
    "clean_array = []\n",
    "for i in tech_array:\n",
    "    if len(i) > 1000:\n",
    "        clean_array.append(\". \".join(list(i[:800].split(\".\"))[:-1]))\n",
    "    else:\n",
    "        clean_array.append(i)\n",
    "        \n",
    "pdf_split_data.extend(clean_array)"
   ]
  },
  {
   "cell_type": "code",
   "execution_count": 6,
   "metadata": {},
   "outputs": [
    {
     "name": "stdout",
     "output_type": "stream",
     "text": [
      "total len: 25833653\n",
      "max length : 7211\n",
      "min length : 0\n",
      "mean length : 472.4515910753475\n"
     ]
    }
   ],
   "source": [
    "max_len = float(\"-inf\")\n",
    "min_len = float(\"inf\")\n",
    "total_len = 0\n",
    "\n",
    "for i in pdf_split_data:\n",
    "    length = len(i)\n",
    "\n",
    "    if length > max_len:\n",
    "        max_len = length\n",
    "\n",
    "    if length < min_len:\n",
    "        min_len = length\n",
    "\n",
    "    total_len += length\n",
    "\n",
    "print(f\"total len: {total_len}\")\n",
    "print(f\"max length : {max_len}\")\n",
    "print(f\"min length : {min_len}\")\n",
    "print(f\"mean length : {total_len/len(pdf_split_data)}\")"
   ]
  },
  {
   "cell_type": "code",
   "execution_count": 7,
   "metadata": {},
   "outputs": [
    {
     "data": {
      "text/plain": [
       "['전자금융거래법 제1조(목적) 이 법은 전자금융거래의 법률관계를 명확히 하여 전자금융거래의 안전성과 신뢰성을 확보함과 아울러 전 자금융업의 건전한 발전을 위한 기반조성을 함으로써 국민의 금융편의를 꾀하고 국민경제의 발전에 이바지함을 목 적으로 한다.',\n",
       " '전자금융거래법 제2조(정의) 이 법에서 사용하는 용어의 정의는 다음과 같다.  1. “전자금융거래”라 함은 금융회사 또는 전자금융업자가 전자적 장치를 통하여 금융상품 및 서비스를 제공(이하 “전자금융업무”라 한다)하고, 이용자가 금융회사 또는 전자금융업자의 종사자와 직접 대면하거나 의사소통을 하 지 아니하고 자동화된 방식으로 이를 이용하는 거래를 말한다. 2. “전자지급거래”라 함은 자금을 주는 자(이하 “지급인”이라 한다)가 금융회사 또는 전자금융업자로 하여금 전자지 급수단을 이용하여 자금을 받는 자(이하 “수취인”이라 한다)에게 자금을 이동하게 하는 전자금융거래를 말한다. 3. “금융회사”란 다음 각 목의 어느 하나에 해당하는 기관이나 단체 또는 사업자를 말한다. 가. 「금융위원회의 설치 등에 관한 법률」',\n",
       " '“전자지급거래”라 함은 자금을 주는 자(이하 “지급인”이라 한다)가 금융회사 또는 전자금융업자로 하여금 전자지 급수단을 이용하여 자금을 받는 자(이하 “수취인”이라 한다)에게 자금을 이동하게 하는 전자금융거래를 말한다. 3. “금융회사”란 다음 각 목의 어느 하나에 해당하는 기관이나 단체 또는 사업자를 말한다. 가. 「금융위원회의 설치 등에 관한 법률」 제38조제1호부터 제5호까지, 제7호 및 제8호에 해당하는 기관 나. 「여신전문금융업법」에 따른 여신전문금융회사 다. 「우체국예금ㆍ보험에 관한 법률」에 따른 체신관서 라. 「새마을금고법」에 따른 새마을금고 및 새마을금고중앙회 마. 그 밖에 법률의 규정에 따라 금융업 및 금융 관련 업무를 행하는 기관이나 단체 또는 사업자로서 대통령령이 정하는 자 4. “전자금융업자”라 함은 제28조의 규정에 따라 허가를 받거나 등록을 한 자(금융회사는 제외한다)를 말한다. 5. “전자금융보조업자”라 함은 금융회사 또는 전자금융업자를 위하여',\n",
       " '「새마을금고법」에 따른 새마을금고 및 새마을금고중앙회 마. 그 밖에 법률의 규정에 따라 금융업 및 금융 관련 업무를 행하는 기관이나 단체 또는 사업자로서 대통령령이 정하는 자 4. “전자금융업자”라 함은 제28조의 규정에 따라 허가를 받거나 등록을 한 자(금융회사는 제외한다)를 말한다. 5. “전자금융보조업자”라 함은 금융회사 또는 전자금융업자를 위하여 전자금융거래를 보조하거나 그 일부를 대행하 는 업무를 행하는 자 또는 결제중계시스템의 운영자로서 「금융위원회의 설치 등에 관한 법률」제3조에 따른 금융 위원회(이하 “금융위원회”라 한다)가 정하는 자를 말한다. 6. “결제중계시스템”이라 함은 금융회사와 전자금융업자 사이에 전자금융거래정보를 전달하여 자금정산 및 결제에 관한 업무를 수행하는 금융정보처리운영체계를 말한다. 7. “이용자”라 함은 전자금융거래를 위하여 금융회사 또는 전자금융업자와 체결한 계약(이하 “전자금융거래계약”이 라 한다)에 따라 전자금융거래를 이용하는 자를',\n",
       " '한다)가 정하는 자를 말한다. 6. “결제중계시스템”이라 함은 금융회사와 전자금융업자 사이에 전자금융거래정보를 전달하여 자금정산 및 결제에 관한 업무를 수행하는 금융정보처리운영체계를 말한다. 7. “이용자”라 함은 전자금융거래를 위하여 금융회사 또는 전자금융업자와 체결한 계약(이하 “전자금융거래계약”이 라 한다)에 따라 전자금융거래를 이용하는 자를 말한다. 8. “전자적 장치”라 함은 전자금융거래정보를 전자적 방법으로 전송하거나 처리하는데 이용되는 장치로서 현금자동 지급기, 자동입출금기, 지급용단말기, 컴퓨터, 전화기 그 밖에 전자적 방법으로 정보를 전송하거나 처리하는 장치 를 말한다. 9. “전자문서”라 함은 「전자문서 및 전자거래 기본법」 제2조제1호에 따른 작성, 송신ㆍ수신 또는 저장된 정보를 말 한다. 10. “접근매체”라 함은 전자금융거래에 있어서 거래지시를 하거나 이용자 및 거래내용의 진실성과 정확성을 확보하 기 위하여 사용되는 다음 각 목의 어느 하나에 해당하는 수단',\n",
       " '방법으로 정보를 전송하거나 처리하는 장치 를 말한다. 9. “전자문서”라 함은 「전자문서 및 전자거래 기본법」 제2조제1호에 따른 작성, 송신ㆍ수신 또는 저장된 정보를 말 한다. 10. “접근매체”라 함은 전자금융거래에 있어서 거래지시를 하거나 이용자 및 거래내용의 진실성과 정확성을 확보하 기 위하여 사용되는 다음 각 목의 어느 하나에 해당하는 수단 또는 정보를 말한다. 가. 전자식 카드 및 이에 준하는 전자적 정보 나. 「전자서명법」 제2조제3호에 따른 전자서명생성정보 및 같은 조 제6호에 따른 인증서 다. 금융회사 또는 전자금융업자에 등록된 이용자번호 법제처 1 국가법령정보센터 전자금융거래법 라. 이용자의 생체정보 마. 가목 또는 나목의 수단이나 정보를 사용하는데 필요한 비밀번호 11. “전자지급수단”이라 함은 전자자금이체, 직불전자지급수단, 선불전자지급수단, 전자화폐, 신용카드, 전자채권 그 밖에 전자적 방법에 따른 지급수단을 말한다. 12. “전자자금이체”라 함은 지급인과',\n",
       " '등록된 이용자번호 법제처 1 국가법령정보센터 전자금융거래법 라. 이용자의 생체정보 마. 가목 또는 나목의 수단이나 정보를 사용하는데 필요한 비밀번호 11. “전자지급수단”이라 함은 전자자금이체, 직불전자지급수단, 선불전자지급수단, 전자화폐, 신용카드, 전자채권 그 밖에 전자적 방법에 따른 지급수단을 말한다. 12. “전자자금이체”라 함은 지급인과 수취인 사이에 자금을 지급할 목적으로 금융회사 또는 전자금융업자에 개설된 계좌(금융회사에 연결된 계좌에 한한다. 이하 같다)에서 다른 계좌로 전자적 장치에 의하여 다음 각 목의 어느 하 나에 해당하는 방법으로 자금을 이체하는 것을 말한다. 가. 금융회사 또는 전자금융업자에 대한 지급인의 지급지시 나. 금융회사 또는 전자금융업자에 대한 수취인의 추심지시(이하 “추심이체”라 한다) 13. “직불전자지급수단”이라 함은 이용자와 가맹점간에 전자적 방법에 따라 금융회사의 계좌에서 자금을 이체하는 등의 방법으로 재화 또는 용역의 제공과 그 대가의',\n",
       " '나에 해당하는 방법으로 자금을 이체하는 것을 말한다. 가. 금융회사 또는 전자금융업자에 대한 지급인의 지급지시 나. 금융회사 또는 전자금융업자에 대한 수취인의 추심지시(이하 “추심이체”라 한다) 13. “직불전자지급수단”이라 함은 이용자와 가맹점간에 전자적 방법에 따라 금융회사의 계좌에서 자금을 이체하는 등의 방법으로 재화 또는 용역의 제공과 그 대가의 지급을 동시에 이행할 수 있도록 금융회사 또는 전자금융업자 가 발행한 증표(자금을 융통받을 수 있는 증표를 제외한다) 또는 그 증표에 관한 정보를 말한다. 14. “선불전자지급수단”이라 함은 이전 가능한 금전적 가치가 전자적 방법으로 저장되어 발행된 증표(전자적 방법 으로 변환되어 저장된 증표를 포함한다) 또는 그 증표에 관한 정보로서 발행인(대통령령으로 정하는 특수관계인 을 포함한다) 외의 제3자로부터 재화 또는 용역을 구입하고 그 대가를 지급하는데 사용되는 것을 말한다. 다만, 전자화폐를 제외한다. 가. 삭제<2023. 9.',\n",
       " '함은 이전 가능한 금전적 가치가 전자적 방법으로 저장되어 발행된 증표(전자적 방법 으로 변환되어 저장된 증표를 포함한다) 또는 그 증표에 관한 정보로서 발행인(대통령령으로 정하는 특수관계인 을 포함한다) 외의 제3자로부터 재화 또는 용역을 구입하고 그 대가를 지급하는데 사용되는 것을 말한다. 다만, 전자화폐를 제외한다. 가. 삭제 나. 삭제 15. “전자화폐”라 함은 이전 가능한 금전적 가치가 전자적 방법으로 저장되어 발행된 증표 또는 그 증표에 관한 정 보로서 다음 각 목의 요건을 모두 갖춘 것을 말한다. 가. 대통령령이 정하는 기준 이상의 지역 및 가맹점에서 이용될 것 나. 제14호 가목의 요건을 충족할 것 다. 구입할 수 있는 재화 또는 용역의 범위가 5개 이상으로서 대통령령이 정하는 업종 수 이상일 것 라. 현금 또는 예금과 동일한 가치로 교환되어 발행될 것 마. 발행자에 의하여 현금 또는 예금으로 교환이 보장될 것 16.',\n",
       " '모두 갖춘 것을 말한다. 가. 대통령령이 정하는 기준 이상의 지역 및 가맹점에서 이용될 것 나. 제14호 가목의 요건을 충족할 것 다. 구입할 수 있는 재화 또는 용역의 범위가 5개 이상으로서 대통령령이 정하는 업종 수 이상일 것 라. 현금 또는 예금과 동일한 가치로 교환되어 발행될 것 마. 발행자에 의하여 현금 또는 예금으로 교환이 보장될 것 16. “전자채권”이라 함은 다음 각 목의 요건을 갖춘 전자문서에 기재된 채권자의 금전채권을 말한다. 가. 채무자가 채권자를 지정할 것 나. 전자채권에 채무의 내용이 기재되어 있을 것 다. 「전자서명법」 제2조제2호에 따른 전자서명(서명자의 실지명의를 확인할 수 있는 것을 말한다)이 있을 것 라. 금융회사를 거쳐 제29조제1항의 규정에 따른 전자채권관리기관(이하 “전자채권관리기관”이라 한다)에 등록될 것 마. 채무자가 채권자에게 가목 내지 다목의 요건을 모두 갖춘 전자문서를 「전자문서 및 전자거래 기본법」 제6조 제1항에 따라 송신하고']"
      ]
     },
     "execution_count": 7,
     "metadata": {},
     "output_type": "execute_result"
    }
   ],
   "source": [
    "pdf_split_data_recursive = []\n",
    "\n",
    "splitter = RecursiveCharacterTextSplitter(\n",
    "    chunk_size=500,\n",
    "    chunk_overlap=200,\n",
    "    length_function=len,\n",
    "    separators=[\"\\n\\n\", \"\\n\", \" \", \"\"]\n",
    ")\n",
    "\n",
    "for i in pdf_split_data:\n",
    "    clean_text = re.sub(r'\\s+', ' ', i).strip()\n",
    "    chunks = splitter.split_text(clean_text)\n",
    "    pdf_split_data_recursive.extend(chunks)\n",
    "\n",
    "pdf_split_data_recursive = [re.sub(r\"[<\\[].*?[>\\]]\", \"\", text).strip() for text in pdf_split_data_recursive]\n",
    "\n",
    "pdf_split_data_recursive[:10]"
   ]
  },
  {
   "cell_type": "code",
   "execution_count": 8,
   "metadata": {},
   "outputs": [
    {
     "name": "stderr",
     "output_type": "stream",
     "text": [
      "/tmp/ipykernel_606851/2243535589.py:2: LangChainDeprecationWarning: The class `HuggingFaceEmbeddings` was deprecated in LangChain 0.2.2 and will be removed in 1.0. An updated version of the class exists in the :class:`~langchain-huggingface package and should be used instead. To use it run `pip install -U :class:`~langchain-huggingface` and import as `from :class:`~langchain_huggingface import HuggingFaceEmbeddings``.\n",
      "  embedding = HuggingFaceEmbeddings(model_name=embedding_model_name)\n",
      "/home/aicontest/anaconda3/envs/construct/lib/python3.11/site-packages/torch/nn/modules/module.py:1762: FutureWarning: `encoder_attention_mask` is deprecated and will be removed in version 4.55.0 for `BertSdpaSelfAttention.forward`.\n",
      "  return forward_call(*args, **kwargs)\n"
     ]
    }
   ],
   "source": [
    "embedding_model_name = \"jhgan/ko-sbert-sts\"\n",
    "embedding = HuggingFaceEmbeddings(model_name=embedding_model_name)\n",
    "\n",
    "vector_store = FAISS.from_texts(pdf_split_data_recursive, embedding, distance_strategy = DistanceStrategy.COSINE)\n",
    "retriever = vector_store.as_retriever(search_type=\"similarity\", search_kwargs={\"k\":10})"
   ]
  },
  {
   "cell_type": "code",
   "execution_count": 9,
   "metadata": {},
   "outputs": [
    {
     "name": "stdout",
     "output_type": "stream",
     "text": [
      "개인정보 보호법 제34조의2(노출된 개인정보의 삭제ㆍ차단) ① 개인정보처리자는 고유식별정보, 계좌정보, 신용카드정보 등 개인정보가 정보통신망을 통하여 공중(公衆)에 노출되지 아니하도록 하여야 한다.  ② 개인정보처리자는 공중에 노출된 개인정보에 대하여 보호위원회 또는 대통령령으로 지정한 전문기관의 요청이 있는 경우에는 해당 정보를 삭제하거나 차단하는 등 필요한 조치를 하여야 한다.  ] 제5장 정보주체의 권리 보장\n",
      "신용정보의 이용 및 보호에 관한 법률 제45조의4(보호위원회의 시정조치) 보호위원회는 상거래정보보호규정과 관련하여 개인신용정보가 침해되었다고 판단 할 상당한 근거가 있고 이를 방치할 경우 회복하기 어려운 피해가 발생할 우려가 있다고 인정되면 상거래기업 및 법 인에 대하여 다음 각 호에 해당하는 조치를 명할 수 있다. 1. 개인신용정보 침해행위의 중지 2. 개인신용정보 처리의 일시적인 정지 3. 그 밖에 개인정보의 보호 및 침해 방지를 위하여 필요한 조치\n",
      "있다고 판단되 는 경우 2. 외부에서 발생한 침해사고로 집적된 정보통신시설에 심각한 장애가 발생할 우려가 있다고 판단되는 경우 3. 중대한 침해사고가 발생하여 과학기술정보통신부장관이나 한국인터넷진흥원이 요청하는 경우 ② 집적정보통신시설 사업자는 제1항에 따라 해당 서비스의 제공을 중단하는 경우에는 중단사유, 발생일시, 기간 및 내용 등을 구체적으로 밝혀 시설이용자에게 즉시 알려야 한다. ③ 집적정보통신시설 사업자는 중단사유가 없어지면 즉시 해당 서비스의 제공을 재개하여야 한다.  제46조의3 삭제\n",
      "법률 ③ 과학기술정보통신부장관 또는 한국인터넷진흥원은 제2항에 따른 신고를 받거나 제1항을 위반한 사실을 알게 되 면 다음 각 호의 필요한 조치를 하여야 한다. 1. 위반 사실에 관한 정보의 수집ㆍ전파 2. 유사 피해에 대한 예보ㆍ경보 3. 정보통신서비스 제공자에게 다음 각 목의 사항 중 전부 또는 일부를 요청하는 등 피해 예방 및 피해 확산을 방지 하기 위한 긴급조치 가. 접속경로의 차단 나. 제1항의 위반행위에 이용된 전화번호에 대한 정보통신서비스의 제공 중지 다. 이용자에게 제1항의 위반행위에 노출되었다는 사실의 통지 ④ 과학기술정보통신부장관은 제3항제3호의 조치를 취하기 위하여 정보통신서비스 제공자에게 정보통신서비스 제 공자 간 정보통신망을 통하여 속이는 행위에 대한 정보 공유 등 필요한 조치를 취하도록 명할 수 있다.<신설 2016. 3.\n",
      "등에 심각한 장애가 발생할 가능성이 있으면 이용약관으로 정하는 바에 따라 그 이용 자에게 보호조치를 취하도록 요청하고, 이를 이행하지 아니하는 경우에는 해당 정보통신망으로의 접속을 일시적으 로 제한할 수 있다. ④ 「소프트웨어 진흥법」 제2조에 따른 소프트웨어사업자는 보안에 관한 취약점을 보완하는 프로그램을 제작하였 을 때에는 한국인터넷진흥원에 알려야 하고, 그 소프트웨어 사용자에게는 제작한 날부터 1개월 이내에 2회 이상 알 려야 한다. ⑤ 제3항에 따른 보호조치의 요청 등에 관하여 이용약관으로 정하여야 하는 구체적인 사항은 대통령령으로 정한다.   ]\n",
      "정보통신망 이용촉진 및 정보보호 등에 관한 법률 제44조의3(임의의 임시조치) ① 정보통신서비스 제공자는 자신이 운영ㆍ관리하는 정보통신망에 유통되는 정보가 사생 활 침해 또는 명예훼손 등 타인의 권리를 침해한다고 인정되면 임의로 임시조치를 할 수 있다. ② 제1항에 따른 임시조치에 관하여는 제44조의2제2항 후단, 제4항 후단 및 제5항을 준용한다.\n",
      "신용정보의 이용 및 보호에 관한 법률 제45조의2(금융위원회의 조치명령권) 금융위원회는 신용정보주체를 보호하고 건전한 신용질서를 확립하기 위하여 신 용정보회사등에 다음 각 호의 사항에 관하여 자료제출, 처리중단, 시정조치, 공시 등 필요한 조치를 명할 수 있다. 1. 신용정보회사등이 보유하는 신용정보에 관한 사항 2. 신용정보의 처리에 관한 사항 3. 신용정보회사등의 업무 개선에 관한 사항 4. 신용정보활용체제의 공시에 관한 사항 5. 그 밖에 신용정보주체 보호 또는 건전한 신용질서 확립을 위하여 필요한 사항으로서 대통령령으로 정하는 사항\n",
      "따른 심의위원회의 심의를 거친 제1항 각 호의 정보가 서버에 저장되어 있는지 식별하여 신속 하게 접근을 제한하는 조치 2. 제1호에 따라 식별한 정보의 게재자에게 해당 정보의 유통금지를 요청하는 조치 3. 제1호에 따른 조치의 운영ㆍ관리 실태를 시스템에 자동으로 기록되도록 하고, 이를 대통령령으로 정하는 기간 동 안 보관하는 조치 4. 그 밖에 제1항 각 호에 해당하는 정보의 유통을 방지하기 위하여 필요한 대통령령으로 정하는 조치\n",
      "사 항에 대하여는 그러하지 아니하다. ③주요정보통신기반시설보호계획에는 다음 각호의 사항이 포함되어야 한다. 1. 주요정보통신기반시설의 취약점 분석ㆍ평가에 관한 사항 2. 주요정보통신기반시설 및 관리 정보의 침해사고에 대한 예방, 백업, 복구대책에 관한 사항 3. 그 밖에 주요정보통신기반시설의 보호에 관하여 필요한 사항 ④과학기술정보통신부장관과 국가정보원장은 협의하여 주요정보통신기반시설보호대책 및 주요정보통신기반시설 보호계획의 수립지침을 정하여 이를 관계중앙행정기관의 장에게 통보할 수 있다. ⑤관계중앙행정기관의 장은 소관분야의 주요정보통신기반시설의 보호에 관한 업무를 총괄하는 자(이하 “정보보호 책임관”이라 한다)를 지정하여야 한다. ⑥주요정보통신기반시설보호계획의 수립ㆍ시행에 관한 사항과 정보보호책임관의 지정 및 업무 등에 관하여 필요 한 사항은\n",
      "개인정보 보호법 제34조(개인정보 유출 등의 통지ㆍ신고) ① 개인정보처리자는 개인정보가 분실ㆍ도난ㆍ유출(이하 이 조에서 “유출등 ”이라 한다)되었음을 알게 되었을 때에는 지체 없이 해당 정보주체에게 다음 각 호의 사항을 알려야 한다. 다만, 정보 주체의 연락처를 알 수 없는 경우 등 정당한 사유가 있는 경우에는 대통령령으로 정하는 바에 따라 통지를 갈음하는 조치를 취할 수 있다.  1. 유출등이 된 개인정보의 항목 2. 유출등이 된 시점과 그 경위 3. 유출등으로 인하여 발생할 수 있는 피해를 최소화하기 위하여 정보주체가 할 수 있는 방법 등에 관한 정보 4. 개인정보처리자의 대응조치 및 피해 구제절차 5. 정보주체에게 피해가 발생한 경우 신고 등을 접수할 수 있는 담당부서 및 연락처 ② 개인정보처리자는 개인정보가 유출등이 된 경우 그 피해를 최소화하기 위한 대책을 마련하고 필요한 조치를 하 여야 한다. ③ 개인정보처리자는\n"
     ]
    },
    {
     "name": "stderr",
     "output_type": "stream",
     "text": [
      "/tmp/ipykernel_606851/3849381724.py:7: LangChainDeprecationWarning: The method `BaseRetriever.get_relevant_documents` was deprecated in langchain-core 0.1.46 and will be removed in 1.0. Use :meth:`~invoke` instead.\n",
      "  text = retriever.get_relevant_documents(query)\n",
      "/home/aicontest/anaconda3/envs/construct/lib/python3.11/site-packages/torch/nn/modules/module.py:1762: FutureWarning: `encoder_attention_mask` is deprecated and will be removed in version 4.55.0 for `BertSdpaSelfAttention.forward`.\n",
      "  return forward_call(*args, **kwargs)\n"
     ]
    }
   ],
   "source": [
    "query = \"\"\"정보통신망법 제47조의4에 따라 주요정보통신서비스 제공자가 정보통신망에 중대한 침해사고가 발생할 경우 취할 수 있는 조치는?\n",
    "1 이용자에게 보호조치를 요청한다.\n",
    "2 이용자의 정보를 삭제한다.\n",
    "3 이용자의 정보를 공개한다.\n",
    "4 이용자의 계정을 영구적으로 정지한다.\"\"\"\n",
    "\n",
    "text = retriever.get_relevant_documents(query)\n",
    "\n",
    "for i in text:\n",
    "    print(i.page_content)"
   ]
  },
  {
   "cell_type": "code",
   "execution_count": 10,
   "metadata": {},
   "outputs": [
    {
     "name": "stderr",
     "output_type": "stream",
     "text": [
      "/home/aicontest/anaconda3/envs/construct/lib/python3.11/site-packages/torch/nn/modules/module.py:1762: FutureWarning: `encoder_attention_mask` is deprecated and will be removed in version 4.55.0 for `XLMRobertaSdpaSelfAttention.forward`.\n",
      "  return forward_call(*args, **kwargs)\n"
     ]
    },
    {
     "name": "stdout",
     "output_type": "stream",
     "text": [
      "('정보통신망법 제47조의4에 따라 주요정보통신서비스 제공자가 정보통신망에 중대한 침해사고가 발생할 경우 취할 수 있는 조치는?\\n1 이용자에게 보호조치를 요청한다.\\n2 이용자의 정보를 삭제한다.\\n3 이용자의 정보를 공개한다.\\n4 이용자의 계정을 영구적으로 정지한다.', '개인정보 보호법 제34조의2(노출된 개인정보의 삭제ㆍ차단) ① 개인정보처리자는 고유식별정보, 계좌정보, 신용카드정보 등 개인정보가 정보통신망을 통하여 공중(公衆)에 노출되지 아니하도록 하여야 한다.  ② 개인정보처리자는 공중에 노출된 개인정보에 대하여 보호위원회 또는 대통령령으로 지정한 전문기관의 요청이 있는 경우에는 해당 정보를 삭제하거나 차단하는 등 필요한 조치를 하여야 한다.  ] 제5장 정보주체의 권리 보장') : 2.2485279259853996e-05\n",
      "('정보통신망법 제47조의4에 따라 주요정보통신서비스 제공자가 정보통신망에 중대한 침해사고가 발생할 경우 취할 수 있는 조치는?\\n1 이용자에게 보호조치를 요청한다.\\n2 이용자의 정보를 삭제한다.\\n3 이용자의 정보를 공개한다.\\n4 이용자의 계정을 영구적으로 정지한다.', '신용정보의 이용 및 보호에 관한 법률 제45조의4(보호위원회의 시정조치) 보호위원회는 상거래정보보호규정과 관련하여 개인신용정보가 침해되었다고 판단 할 상당한 근거가 있고 이를 방치할 경우 회복하기 어려운 피해가 발생할 우려가 있다고 인정되면 상거래기업 및 법 인에 대하여 다음 각 호에 해당하는 조치를 명할 수 있다. 1. 개인신용정보 침해행위의 중지 2. 개인신용정보 처리의 일시적인 정지 3. 그 밖에 개인정보의 보호 및 침해 방지를 위하여 필요한 조치') : 0.00043973454739898443\n",
      "('정보통신망법 제47조의4에 따라 주요정보통신서비스 제공자가 정보통신망에 중대한 침해사고가 발생할 경우 취할 수 있는 조치는?\\n1 이용자에게 보호조치를 요청한다.\\n2 이용자의 정보를 삭제한다.\\n3 이용자의 정보를 공개한다.\\n4 이용자의 계정을 영구적으로 정지한다.', '있다고 판단되 는 경우 2. 외부에서 발생한 침해사고로 집적된 정보통신시설에 심각한 장애가 발생할 우려가 있다고 판단되는 경우 3. 중대한 침해사고가 발생하여 과학기술정보통신부장관이나 한국인터넷진흥원이 요청하는 경우 ② 집적정보통신시설 사업자는 제1항에 따라 해당 서비스의 제공을 중단하는 경우에는 중단사유, 발생일시, 기간 및 내용 등을 구체적으로 밝혀 시설이용자에게 즉시 알려야 한다. ③ 집적정보통신시설 사업자는 중단사유가 없어지면 즉시 해당 서비스의 제공을 재개하여야 한다.  제46조의3 삭제') : 0.8336785435676575\n",
      "('정보통신망법 제47조의4에 따라 주요정보통신서비스 제공자가 정보통신망에 중대한 침해사고가 발생할 경우 취할 수 있는 조치는?\\n1 이용자에게 보호조치를 요청한다.\\n2 이용자의 정보를 삭제한다.\\n3 이용자의 정보를 공개한다.\\n4 이용자의 계정을 영구적으로 정지한다.', '법률 ③ 과학기술정보통신부장관 또는 한국인터넷진흥원은 제2항에 따른 신고를 받거나 제1항을 위반한 사실을 알게 되 면 다음 각 호의 필요한 조치를 하여야 한다. 1. 위반 사실에 관한 정보의 수집ㆍ전파 2. 유사 피해에 대한 예보ㆍ경보 3. 정보통신서비스 제공자에게 다음 각 목의 사항 중 전부 또는 일부를 요청하는 등 피해 예방 및 피해 확산을 방지 하기 위한 긴급조치 가. 접속경로의 차단 나. 제1항의 위반행위에 이용된 전화번호에 대한 정보통신서비스의 제공 중지 다. 이용자에게 제1항의 위반행위에 노출되었다는 사실의 통지 ④ 과학기술정보통신부장관은 제3항제3호의 조치를 취하기 위하여 정보통신서비스 제공자에게 정보통신서비스 제 공자 간 정보통신망을 통하여 속이는 행위에 대한 정보 공유 등 필요한 조치를 취하도록 명할 수 있다.<신설 2016. 3.') : 0.008540511131286621\n",
      "('정보통신망법 제47조의4에 따라 주요정보통신서비스 제공자가 정보통신망에 중대한 침해사고가 발생할 경우 취할 수 있는 조치는?\\n1 이용자에게 보호조치를 요청한다.\\n2 이용자의 정보를 삭제한다.\\n3 이용자의 정보를 공개한다.\\n4 이용자의 계정을 영구적으로 정지한다.', '등에 심각한 장애가 발생할 가능성이 있으면 이용약관으로 정하는 바에 따라 그 이용 자에게 보호조치를 취하도록 요청하고, 이를 이행하지 아니하는 경우에는 해당 정보통신망으로의 접속을 일시적으 로 제한할 수 있다. ④ 「소프트웨어 진흥법」 제2조에 따른 소프트웨어사업자는 보안에 관한 취약점을 보완하는 프로그램을 제작하였 을 때에는 한국인터넷진흥원에 알려야 하고, 그 소프트웨어 사용자에게는 제작한 날부터 1개월 이내에 2회 이상 알 려야 한다. ⑤ 제3항에 따른 보호조치의 요청 등에 관하여 이용약관으로 정하여야 하는 구체적인 사항은 대통령령으로 정한다.   ]') : 0.1457604616880417\n",
      "('정보통신망법 제47조의4에 따라 주요정보통신서비스 제공자가 정보통신망에 중대한 침해사고가 발생할 경우 취할 수 있는 조치는?\\n1 이용자에게 보호조치를 요청한다.\\n2 이용자의 정보를 삭제한다.\\n3 이용자의 정보를 공개한다.\\n4 이용자의 계정을 영구적으로 정지한다.', '정보통신망 이용촉진 및 정보보호 등에 관한 법률 제44조의3(임의의 임시조치) ① 정보통신서비스 제공자는 자신이 운영ㆍ관리하는 정보통신망에 유통되는 정보가 사생 활 침해 또는 명예훼손 등 타인의 권리를 침해한다고 인정되면 임의로 임시조치를 할 수 있다. ② 제1항에 따른 임시조치에 관하여는 제44조의2제2항 후단, 제4항 후단 및 제5항을 준용한다.') : 0.00011834764154627919\n",
      "('정보통신망법 제47조의4에 따라 주요정보통신서비스 제공자가 정보통신망에 중대한 침해사고가 발생할 경우 취할 수 있는 조치는?\\n1 이용자에게 보호조치를 요청한다.\\n2 이용자의 정보를 삭제한다.\\n3 이용자의 정보를 공개한다.\\n4 이용자의 계정을 영구적으로 정지한다.', '신용정보의 이용 및 보호에 관한 법률 제45조의2(금융위원회의 조치명령권) 금융위원회는 신용정보주체를 보호하고 건전한 신용질서를 확립하기 위하여 신 용정보회사등에 다음 각 호의 사항에 관하여 자료제출, 처리중단, 시정조치, 공시 등 필요한 조치를 명할 수 있다. 1. 신용정보회사등이 보유하는 신용정보에 관한 사항 2. 신용정보의 처리에 관한 사항 3. 신용정보회사등의 업무 개선에 관한 사항 4. 신용정보활용체제의 공시에 관한 사항 5. 그 밖에 신용정보주체 보호 또는 건전한 신용질서 확립을 위하여 필요한 사항으로서 대통령령으로 정하는 사항') : 1.9626262655947357e-05\n",
      "('정보통신망법 제47조의4에 따라 주요정보통신서비스 제공자가 정보통신망에 중대한 침해사고가 발생할 경우 취할 수 있는 조치는?\\n1 이용자에게 보호조치를 요청한다.\\n2 이용자의 정보를 삭제한다.\\n3 이용자의 정보를 공개한다.\\n4 이용자의 계정을 영구적으로 정지한다.', '따른 심의위원회의 심의를 거친 제1항 각 호의 정보가 서버에 저장되어 있는지 식별하여 신속 하게 접근을 제한하는 조치 2. 제1호에 따라 식별한 정보의 게재자에게 해당 정보의 유통금지를 요청하는 조치 3. 제1호에 따른 조치의 운영ㆍ관리 실태를 시스템에 자동으로 기록되도록 하고, 이를 대통령령으로 정하는 기간 동 안 보관하는 조치 4. 그 밖에 제1항 각 호에 해당하는 정보의 유통을 방지하기 위하여 필요한 대통령령으로 정하는 조치') : 0.010944986715912819\n",
      "('정보통신망법 제47조의4에 따라 주요정보통신서비스 제공자가 정보통신망에 중대한 침해사고가 발생할 경우 취할 수 있는 조치는?\\n1 이용자에게 보호조치를 요청한다.\\n2 이용자의 정보를 삭제한다.\\n3 이용자의 정보를 공개한다.\\n4 이용자의 계정을 영구적으로 정지한다.', '사 항에 대하여는 그러하지 아니하다. ③주요정보통신기반시설보호계획에는 다음 각호의 사항이 포함되어야 한다. 1. 주요정보통신기반시설의 취약점 분석ㆍ평가에 관한 사항 2. 주요정보통신기반시설 및 관리 정보의 침해사고에 대한 예방, 백업, 복구대책에 관한 사항 3. 그 밖에 주요정보통신기반시설의 보호에 관하여 필요한 사항 ④과학기술정보통신부장관과 국가정보원장은 협의하여 주요정보통신기반시설보호대책 및 주요정보통신기반시설 보호계획의 수립지침을 정하여 이를 관계중앙행정기관의 장에게 통보할 수 있다. ⑤관계중앙행정기관의 장은 소관분야의 주요정보통신기반시설의 보호에 관한 업무를 총괄하는 자(이하 “정보보호 책임관”이라 한다)를 지정하여야 한다. ⑥주요정보통신기반시설보호계획의 수립ㆍ시행에 관한 사항과 정보보호책임관의 지정 및 업무 등에 관하여 필요 한 사항은') : 0.00046464719343930483\n",
      "('정보통신망법 제47조의4에 따라 주요정보통신서비스 제공자가 정보통신망에 중대한 침해사고가 발생할 경우 취할 수 있는 조치는?\\n1 이용자에게 보호조치를 요청한다.\\n2 이용자의 정보를 삭제한다.\\n3 이용자의 정보를 공개한다.\\n4 이용자의 계정을 영구적으로 정지한다.', '개인정보 보호법 제34조(개인정보 유출 등의 통지ㆍ신고) ① 개인정보처리자는 개인정보가 분실ㆍ도난ㆍ유출(이하 이 조에서 “유출등 ”이라 한다)되었음을 알게 되었을 때에는 지체 없이 해당 정보주체에게 다음 각 호의 사항을 알려야 한다. 다만, 정보 주체의 연락처를 알 수 없는 경우 등 정당한 사유가 있는 경우에는 대통령령으로 정하는 바에 따라 통지를 갈음하는 조치를 취할 수 있다.  1. 유출등이 된 개인정보의 항목 2. 유출등이 된 시점과 그 경위 3. 유출등으로 인하여 발생할 수 있는 피해를 최소화하기 위하여 정보주체가 할 수 있는 방법 등에 관한 정보 4. 개인정보처리자의 대응조치 및 피해 구제절차 5. 정보주체에게 피해가 발생한 경우 신고 등을 접수할 수 있는 담당부서 및 연락처 ② 개인정보처리자는 개인정보가 유출등이 된 경우 그 피해를 최소화하기 위한 대책을 마련하고 필요한 조치를 하 여야 한다. ③ 개인정보처리자는') : 1.068061374098761e-05\n"
     ]
    }
   ],
   "source": [
    "# 예시: 쿼리 + 문서 리스트\n",
    "docs = [i.page_content for i in text]\n",
    "\n",
    "# Query-document 쌍 만들기\n",
    "pairs = [(query, doc) for doc in docs]\n",
    "\n",
    "def exp_normalize(x):\n",
    "    b = x.max()\n",
    "    y = np.exp(x - b)\n",
    "    return y / y.sum()\n",
    "\n",
    "model_path = \"Dongjin-kr/ko-reranker\"\n",
    "tokenizer = AutoTokenizer.from_pretrained(model_path)\n",
    "model = AutoModelForSequenceClassification.from_pretrained(model_path)\n",
    "model.eval()\n",
    "\n",
    "with torch.no_grad():\n",
    "    inputs = tokenizer(pairs, padding=True, truncation=True, return_tensors='pt', max_length=512)\n",
    "    scores = model(**inputs, return_dict=True).logits.view(-1, ).float()\n",
    "    scores = exp_normalize(scores.numpy())\n",
    "    \n",
    "    for k, v in zip(pairs, scores):\n",
    "        print(f\"{k} : {v}\")\n"
   ]
  },
  {
   "cell_type": "code",
   "execution_count": 11,
   "metadata": {},
   "outputs": [
    {
     "name": "stderr",
     "output_type": "stream",
     "text": [
      "Rag inference...: 100%|██████████| 515/515 [27:38<00:00,  3.22s/it]\n"
     ]
    }
   ],
   "source": [
    "warnings.filterwarnings(\"ignore\", category=FutureWarning)\n",
    "test_df = pd.read_csv(\"./data/test.csv\")\n",
    "\n",
    "submission_dict = {\n",
    "    \"ID\" : [],\n",
    "    \"Question\" : [],\n",
    "    \"RagInfo\" : [],\n",
    "    \"score\": []\n",
    "}\n",
    "\n",
    "for _, i in tqdm(test_df.iterrows(), total=len(test_df), desc=\"Rag inference...\"):\n",
    "    question = i[\"Question\"]\n",
    "    text = retriever.get_relevant_documents(question)\n",
    "\n",
    "    docs = [i.page_content for i in text]\n",
    "    pairs = [(question, doc) for doc in docs]\n",
    "\n",
    "    with torch.no_grad():\n",
    "        inputs = tokenizer(pairs, padding=True, truncation=True, return_tensors='pt', max_length=512)\n",
    "        scores = model(**inputs, return_dict=True).logits.view(-1, ).float()\n",
    "        scores = exp_normalize(scores.numpy())\n",
    "    \n",
    "    Rag_information = pairs[np.argmax(scores)]\n",
    "\n",
    "    submission_dict[\"ID\"].append(i[\"ID\"])\n",
    "    submission_dict[\"Question\"].append(question)\n",
    "    submission_dict[\"RagInfo\"].append(Rag_information[1])\n",
    "    submission_dict[\"score\"].append(max(scores))\n",
    "\n",
    "submission_df = pd.DataFrame(submission_dict)\n",
    "submission_df.to_csv(\"./data/raginfo_tech.csv\")"
   ]
  },
  {
   "cell_type": "code",
   "execution_count": null,
   "metadata": {},
   "outputs": [
    {
     "name": "stdout",
     "output_type": "stream",
     "text": [
      "0.7057003752135917\n"
     ]
    },
    {
     "ename": "",
     "evalue": "",
     "output_type": "error",
     "traceback": [
      "\u001b[1;31mThe Kernel crashed while executing code in the current cell or a previous cell. \n",
      "\u001b[1;31mPlease review the code in the cell(s) to identify a possible cause of the failure. \n",
      "\u001b[1;31mClick <a href='https://aka.ms/vscodeJupyterKernelCrash'>here</a> for more info. \n",
      "\u001b[1;31mView Jupyter <a href='command:jupyter.viewOutput'>log</a> for further details."
     ]
    }
   ],
   "source": [
    "test = pd.read_csv(\"/home/aicontest/finance/data/raginfo_tech.csv\")\n",
    "test_list = [float(i) for i in test['score']]\n",
    "print(sum(test_list)/len(test_list))"
   ]
  }
 ],
 "metadata": {
  "kernelspec": {
   "display_name": "construct",
   "language": "python",
   "name": "python3"
  },
  "language_info": {
   "codemirror_mode": {
    "name": "ipython",
    "version": 3
   },
   "file_extension": ".py",
   "mimetype": "text/x-python",
   "name": "python",
   "nbconvert_exporter": "python",
   "pygments_lexer": "ipython3",
   "version": "3.11.4"
  }
 },
 "nbformat": 4,
 "nbformat_minor": 2
}
