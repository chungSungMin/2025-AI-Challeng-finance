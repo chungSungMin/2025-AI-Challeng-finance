{
 "cells": [
  {
   "cell_type": "code",
   "execution_count": null,
   "id": "8f8f984b",
   "metadata": {},
   "outputs": [
    {
     "name": "stdout",
     "output_type": "stream",
     "text": [
      "'/workspace/trendyol_cybersec_QA_result.jsonl' 파일 정제를 시작합니다...\n"
     ]
    },
    {
     "name": "stderr",
     "output_type": "stream",
     "text": [
      "Regex 정제 처리 중: 100%|██████████| 53193/53193 [06:50<00:00, 129.60it/s]"
     ]
    },
    {
     "name": "stdout",
     "output_type": "stream",
     "text": [
      "\n",
      "--- [정제 완료] ---\n",
      "총 53193개의 라인을 처리했습니다.\n",
      "그 중 32973개의 라인에서 노이즈가 제거(절단)되었습니다.\n",
      "정제된 데이터가 'cybersecurity_data_regex_cleaned_longText.jsonl' 파일에 저장되었습니다.\n"
     ]
    },
    {
     "name": "stderr",
     "output_type": "stream",
     "text": [
      "\n"
     ]
    },
    {
     "ename": "",
     "evalue": "",
     "output_type": "error",
     "traceback": [
      "\u001b[1;31m현재 셀 또는 이전 셀에서 코드를 실행하는 동안 Kernel이 충돌했습니다. \n",
      "\u001b[1;31m셀의 코드를 검토하여 가능한 오류 원인을 식별하세요. \n",
      "\u001b[1;31m자세한 내용을 보려면 <a href='https://aka.ms/vscodeJupyterKernelCrash'>여기</a>를 클릭하세요. \n",
      "\u001b[1;31m자세한 내용은 Jupyter <a href='command:jupyter.viewOutput'>로그</a>를 참조하세요."
     ]
    }
   ],
   "source": [
    "import json\n",
    "import re\n",
    "from tqdm import tqdm\n",
    "\n",
    "def clean_and_truncate_answer(text: str) -> str:\n",
    "    \"\"\"\n",
    "    답변 텍스트에서 노이즈 패턴을 찾아, 그 패턴이 시작되는 지점부터 뒷부분을 모두 삭제(truncate)하는 함수.\n",
    "    \"\"\"\n",
    "    if not isinstance(text, str):\n",
    "        return \"\"\n",
    "\n",
    "    # 원본 텍스트에서 이중 백슬래시를 단일 백슬래시로 먼저 변환 (일관성 유지)\n",
    "    cleaned_text = text.replace('\\\\\\\\', '\\\\')\n",
    "\n",
    "    # 텍스트를 잘라낼 기준이 되는 노이즈 패턴들 (정규표현식)\n",
    "    # 이 리스트의 순서대로 패턴을 검사합니다.\n",
    "    truncation_patterns = [\n",
    "        # 1. '\\\\n' 또는 유사한 이스케이프 문자가 10번 이상 반복되는 패턴\n",
    "        r'(\\\\n){10,}',\n",
    "        \n",
    "        # 2. 20자 이상의 긴 구문/문장이 연속으로 반복되는 경우\n",
    "        r'(.{20,})\\1+',\n",
    "        \n",
    "        # 3. 2~5자의 대문자 조합이 5번 이상 반복되는 패턴 (예: TXT..., NIST...)\n",
    "        r'([A-Z]{2,5})\\1{4,}'\n",
    "    ]\n",
    "\n",
    "    # 가장 먼저 발견되는 노이즈 패턴의 시작 위치를 찾음\n",
    "    truncate_at = len(cleaned_text) # 기본값은 텍스트 전체 길이\n",
    "    for pattern in truncation_patterns:\n",
    "        match = re.search(pattern, cleaned_text)\n",
    "        if match:\n",
    "            # 더 먼저 나타나는 패턴을 기준으로 자르기 위해 최소값을 계속 업데이트\n",
    "            truncate_at = min(truncate_at, match.start())\n",
    "\n",
    "    # 찾은 위치를 기준으로 텍스트를 자름\n",
    "    cleaned_text = cleaned_text[:truncate_at]\n",
    "\n",
    "    # 최종적으로 남은 텍스트에 대해 개행 문자 정리 및 양 끝 공백 제거\n",
    "    cleaned_text = re.sub(r'\\n{3,}', '\\n\\n', cleaned_text)\n",
    "    return cleaned_text.strip()\n",
    "\n",
    "# --- 메인 실행 부분 ---\n",
    "\n",
    "input_filename = '/workspace/trendyol_cybersec_QA_result.jsonl'\n",
    "output_filename = 'cybersecurity_data_regex_cleaned_longText.jsonl'\n",
    "\n",
    "cleaned_lines = 0\n",
    "total_lines = 0\n",
    "\n",
    "print(f\"'{input_filename}' 파일 정제를 시작합니다...\")\n",
    "\n",
    "try:\n",
    "    with open(input_filename, 'r', encoding='utf-8') as infile, \\\n",
    "         open(output_filename, 'w', encoding='utf-8') as outfile:\n",
    "        \n",
    "        lines = infile.readlines()\n",
    "        total_lines = len(lines)\n",
    "        \n",
    "        for line in tqdm(lines, desc=\"Regex 정제 처리 중\"):\n",
    "            try:\n",
    "                data = json.loads(line)\n",
    "                original_answer = data.get('answer', '')\n",
    "                \n",
    "                # 정제 함수를 사용하여 답변을 처리\n",
    "                cleaned_answer = clean_and_truncate_answer(original_answer)\n",
    "                \n",
    "                if len(original_answer) != len(cleaned_answer):\n",
    "                    cleaned_lines += 1\n",
    "\n",
    "                data['answer'] = cleaned_answer\n",
    "                outfile.write(json.dumps(data, ensure_ascii=False) + '\\n')\n",
    "\n",
    "            except json.JSONDecodeError:\n",
    "                print(f\"경고: JSON 파싱 오류가 발생하여 한 줄을 건너뜁니다.\")\n",
    "                continue\n",
    "\n",
    "    print(\"\\n--- [정제 완료] ---\")\n",
    "    print(f\"총 {total_lines}개의 라인을 처리했습니다.\")\n",
    "    print(f\"그 중 {cleaned_lines}개의 라인에서 노이즈가 제거(절단)되었습니다.\")\n",
    "    print(f\"정제된 데이터가 '{output_filename}' 파일에 저장되었습니다.\")\n",
    "\n",
    "except FileNotFoundError:\n",
    "    print(f\"오류: 입력 파일 '{input_filename}'을 찾을 수 없습니다.\")"
   ]
  },
  {
   "cell_type": "code",
   "execution_count": null,
   "id": "b042d8d9",
   "metadata": {},
   "outputs": [],
   "source": []
  }
 ],
 "metadata": {
  "kernelspec": {
   "display_name": "Python 3",
   "language": "python",
   "name": "python3"
  },
  "language_info": {
   "codemirror_mode": {
    "name": "ipython",
    "version": 3
   },
   "file_extension": ".py",
   "mimetype": "text/x-python",
   "name": "python",
   "nbconvert_exporter": "python",
   "pygments_lexer": "ipython3",
   "version": "3.12.11"
  }
 },
 "nbformat": 4,
 "nbformat_minor": 5
}
